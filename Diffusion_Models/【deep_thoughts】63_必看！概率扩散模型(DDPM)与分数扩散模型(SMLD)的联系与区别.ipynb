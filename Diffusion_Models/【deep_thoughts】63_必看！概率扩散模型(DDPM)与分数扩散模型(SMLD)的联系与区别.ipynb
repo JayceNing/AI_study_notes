{
 "cells": [
  {
   "cell_type": "markdown",
   "id": "cc7980a7-0dae-4c4c-b7e6-28459730734c",
   "metadata": {},
   "source": [
    "# 两大扩散生成模型:概率扩散模型(DDPM)与分数扩散模型(SMLD)的联系与区别"
   ]
  },
  {
   "cell_type": "markdown",
   "id": "a2e9e981-06b5-4da0-910d-1a3a84c7128a",
   "metadata": {},
   "source": [
    "来自b站up主deep_thoughts 合集【PyTorch源码教程与前沿人工智能算法复现讲解】\n",
    "\n",
    "P_63_必看！概率扩散模型(DDPM)与分数扩散模型(SMLD)的联系与区别：\n",
    "\n",
    "https://www.bilibili.com/video/BV1QG4y1674Q/?spm_id_from=333.788&vd_source=18e91d849da09d846f771c89a366ed40"
   ]
  },
  {
   "cell_type": "markdown",
   "id": "a59ff07a-f5db-462f-b7da-af38e6fabb27",
   "metadata": {},
   "source": [
    "课程最开始的回顾部分见：\n",
    "* DDPM(Denoising Diffusion Probabilistic Model):【deep_thoughts】54_Probabilistic_Diffusion_Model概率扩散模型理论与完整PyTorch代码详细解读.ipynb\n",
    "* SMLD(Score Matching with Langevin Dynamics):【deep_thoughts】62_Score_Diffusion_Model分数扩散模型理论与完整PyTorch代码详细解读.ipynb"
   ]
  },
  {
   "cell_type": "markdown",
   "id": "92981097-66db-49ad-8443-6def3a82e5bf",
   "metadata": {},
   "source": [
    "## 1 扩散生成模型\n",
    "以对数据增加扰动为手段，通过神经网络对加噪后的数据进行建模并最终学到目标数据分布的过程，叫做扩散生成模型，"
   ]
  },
  {
   "cell_type": "markdown",
   "id": "60d70219-975d-4aef-b962-01e8bc0fe08e",
   "metadata": {},
   "source": [
    "## 2 Denoising Score Matching with Langevin Dynamics"
   ]
  },
  {
   "cell_type": "markdown",
   "id": "b0f83367-19d5-49a5-b324-5e4b8840191e",
   "metadata": {},
   "source": [
    "![](./img/P63_1.png)"
   ]
  },
  {
   "cell_type": "markdown",
   "id": "88c7d0f1-38c7-405d-b54b-7038ebc1a04a",
   "metadata": {},
   "source": [
    "### 2.2 关键点\n",
    "* 为了更好地估计分数，需要通过对数据增加不同量级的噪声\n",
    "* 加噪量级有大有小，都在原始数据上加噪，最终的分布趋向于$\\mathcal{N}(0,\\sigma^2)$\n",
    "* 运用分数匹配来训练NCSN网络，从而使得NCSN能够估计任意加噪后分布的分数\n",
    "* 基于任意加噪分布的分数和退火郎之万采样，来生成准确的原始符合数据分布的新样本"
   ]
  },
  {
   "cell_type": "markdown",
   "id": "07993105-4d54-449c-91a5-ec6f8c40915a",
   "metadata": {},
   "source": [
    "## 3 Denoising Diffusion Probabilistic Model"
   ]
  },
  {
   "cell_type": "markdown",
   "id": "ed8d464c-8943-4631-9e35-ec5f8d4aeae5",
   "metadata": {},
   "source": [
    "![](./img/P63_2.png)"
   ]
  },
  {
   "cell_type": "markdown",
   "id": "31f002e7-bdc4-49d5-8883-8f9c5e63ed3e",
   "metadata": {},
   "source": [
    "![](./img/P63_3.png)"
   ]
  },
  {
   "cell_type": "markdown",
   "id": "3729a444-9e87-48b8-9d47-54ad6c26f246",
   "metadata": {},
   "source": [
    "![](./img/P63_4.png)"
   ]
  },
  {
   "cell_type": "markdown",
   "id": "89c340d6-883f-4756-a39c-fa97d75350b6",
   "metadata": {},
   "source": [
    "![](./img/P63_5.png)"
   ]
  },
  {
   "cell_type": "markdown",
   "id": "f4134e17-e90e-4cab-9547-40c1353ff684",
   "metadata": {},
   "source": [
    "![](./img/P63_6.png)"
   ]
  },
  {
   "cell_type": "markdown",
   "id": "c6f2bac9-a52c-442d-96a2-e12b156a14b2",
   "metadata": {},
   "source": [
    "![](./img/P63_7.png)"
   ]
  },
  {
   "cell_type": "code",
   "execution_count": null,
   "id": "fa025fa3-7ffe-4f78-ae8a-9770d5d95af3",
   "metadata": {},
   "outputs": [],
   "source": []
  }
 ],
 "metadata": {
  "kernelspec": {
   "display_name": "Python 3 (ipykernel)",
   "language": "python",
   "name": "python3"
  },
  "language_info": {
   "codemirror_mode": {
    "name": "ipython",
    "version": 3
   },
   "file_extension": ".py",
   "mimetype": "text/x-python",
   "name": "python",
   "nbconvert_exporter": "python",
   "pygments_lexer": "ipython3",
   "version": "3.7.13"
  }
 },
 "nbformat": 4,
 "nbformat_minor": 5
}
