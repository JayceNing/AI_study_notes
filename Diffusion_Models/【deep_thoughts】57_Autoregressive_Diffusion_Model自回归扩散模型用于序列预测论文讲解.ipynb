{
 "cells": [
  {
   "cell_type": "markdown",
   "id": "8dfbbcf3-61ff-4d7f-a2c9-b1878ce5c0f0",
   "metadata": {},
   "source": [
    "# Autoregressive_Diffusion_Model自回归扩散模型用于序列预测论文讲解\n",
    "\n",
    "来自b站up主deep_thoughts 合集【PyTorch源码教程与前沿人工智能算法复现讲解】\n",
    "\n",
    "P_57_Autoregressive_Diffusion_Model自回归扩散模型用于序列预测论文讲解：\n",
    "\n",
    "https://www.bilibili.com/video/BV1pZ4y1t7dc/?spm_id_from=333.788&vd_source=18e91d849da09d846f771c89a366ed40\n",
    "\n",
    "***论文***\n",
    "\n",
    "Denoising Diffusion Probabilistic Models：\n",
    "\n",
    "https://arxiv.org/pdf/2006.11239.pdf\n",
    "\n",
    "Autoregressive Denoising Diffusion Models for Multivariate Probabilistic Time Series Forecasting：\n",
    "\n",
    "http://proceedings.mlr.press/v139/rasul21a/rasul21a.pdf\n",
    "\n",
    "Improved Denoising Diffusion Probabilistic Models：\n",
    "\n",
    "https://arxiv.org/pdf/2102.09672.pdf"
   ]
  },
  {
   "cell_type": "code",
   "execution_count": null,
   "id": "d4f6f551-0f1e-4662-8918-0ff76891e45c",
   "metadata": {},
   "outputs": [],
   "source": []
  }
 ],
 "metadata": {
  "kernelspec": {
   "display_name": "Python 3 (ipykernel)",
   "language": "python",
   "name": "python3"
  },
  "language_info": {
   "codemirror_mode": {
    "name": "ipython",
    "version": 3
   },
   "file_extension": ".py",
   "mimetype": "text/x-python",
   "name": "python",
   "nbconvert_exporter": "python",
   "pygments_lexer": "ipython3",
   "version": "3.7.13"
  }
 },
 "nbformat": 4,
 "nbformat_minor": 5
}
