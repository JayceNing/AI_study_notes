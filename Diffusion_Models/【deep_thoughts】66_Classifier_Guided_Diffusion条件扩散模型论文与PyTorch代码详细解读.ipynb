{
 "cells": [
  {
   "cell_type": "markdown",
   "id": "e4ec2259-fce7-4322-bc49-d00d9cec7ad8",
   "metadata": {},
   "source": [
    "# 直播主题:Classifier-based Guided Diffusion论文及核心采样代码讲解\n",
    "参考文献:《Diffusion Models Beat GANs on Image Synthesis》论文关联代码:github搜索guided-difusion"
   ]
  },
  {
   "cell_type": "markdown",
   "id": "91d55c5e-dd15-4613-a87e-83910d977074",
   "metadata": {},
   "source": [
    "来自b站up主deep_thoughts 合集【PyTorch源码教程与前沿人工智能算法复现讲解】\n",
    "\n",
    "P_66_Classifier_Guided_Diffusion条件扩散模型论文与PyTorch代码详细解读：\n",
    "\n",
    "https://www.bilibili.com/video/BV1m84y1e7hP/?spm_id_from=333.788&vd_source=18e91d849da09d846f771c89a366ed40"
   ]
  },
  {
   "cell_type": "markdown",
   "id": "963aa6d1-a54f-4ee4-85a6-2cf80f47bee7",
   "metadata": {},
   "source": [
    "## UNet、Diffusion代码之前几期直播多次讲过，本期直播结尾只讲解classifier-based sampling的PyTorch代码"
   ]
  },
  {
   "cell_type": "markdown",
   "id": "341bab49-8df3-4f29-accb-fb7854d15f33",
   "metadata": {},
   "source": [
    "# Part1预备知识\n",
    "## 多元高斯分布的似然函数"
   ]
  },
  {
   "cell_type": "markdown",
   "id": "71de5256-61b4-4ae8-89af-ffdf0f685233",
   "metadata": {},
   "source": [
    "![](./img/P66_1.png)"
   ]
  },
  {
   "cell_type": "markdown",
   "id": "2eeac97f-9d88-4177-b00d-3ed5f0d5bcc6",
   "metadata": {},
   "source": [
    "![](./img/P66_2.png)"
   ]
  },
  {
   "cell_type": "markdown",
   "id": "f0d741fa-b3c3-48db-b728-1584b60357b0",
   "metadata": {},
   "source": [
    "## 多元高斯分布协方差矩阵:对称矩阵，也是半正定矩阵"
   ]
  },
  {
   "cell_type": "markdown",
   "id": "93db111b-b003-46a2-a38a-b2dd8fe70259",
   "metadata": {},
   "source": [
    "![](./img/P66_3.png)"
   ]
  },
  {
   "cell_type": "markdown",
   "id": "9122e07c-316a-48e4-9b69-98596854b33e",
   "metadata": {},
   "source": [
    "## 如何评价生成式模型的效果?\n",
    "### 两大目标\n",
    "\n",
    "Quality: 真实性\n",
    "\n",
    "Diversity: 多样性\n",
    "\n",
    "### 客观评测指标1:Inception Score(简称IS)"
   ]
  },
  {
   "cell_type": "markdown",
   "id": "d8ca9ce2-e43b-4fe2-b05d-47e9760e7f12",
   "metadata": {},
   "source": [
    "![](./img/P66_4.png)"
   ]
  },
  {
   "cell_type": "code",
   "execution_count": null,
   "id": "8ed2f0af-7567-4ae6-9ce0-c02c244a039a",
   "metadata": {},
   "outputs": [],
   "source": [
    "#用代码实现IS\n",
    "\n",
    "def calculate_inception_score(p_yx, eps=1E-16):\n",
    "    #calculate p(y)\n",
    "    P_y = expand_dims(p_yx.mean(axis=0), 0)\n",
    "    # kl divergence for each image\n",
    "    kl_d = p_yx * (log(p_yx + eps) - log(p_y + eps))\n",
    "    # sum over classes\n",
    "    sum_kl_d= kl_d.sum(axis=1)\n",
    "    # average over images\n",
    "    avg_kl_d = mean(sum_kl_d)\n",
    "    # undo the logs\n",
    "    is_score = exp(avg_kl_d)\n",
    "    return is_score"
   ]
  },
  {
   "cell_type": "markdown",
   "id": "e2282338-bffb-4be6-b4e7-133bfb7568d6",
   "metadata": {},
   "source": [
    "### 客观评测指标2:Frechlet Inception Distance(简称FID)"
   ]
  },
  {
   "cell_type": "markdown",
   "id": "a84019a4-6d24-4cb4-8cae-4999c5c27176",
   "metadata": {},
   "source": [
    "![](./img/P66_5.png)"
   ]
  },
  {
   "cell_type": "code",
   "execution_count": null,
   "id": "a2f32a4f-ec2b-4100-9801-983cd4ae07de",
   "metadata": {},
   "outputs": [],
   "source": [
    "#用代码突现FID\n",
    "\n",
    "def calculate_fid(act1, act2):\n",
    "    #calculate mean and covariance statistics\n",
    "    mu1, sigma1 = act1.mean(axis=0), cov(act1, rowvar=False)\n",
    "    mu2, sigma2 = act2.mean(axis=0), cov(act2, rowvar=False)\n",
    "    #calculate sum squared difference between means\n",
    "    ssdiff = numpy.sum((mul-mu2)**2.0)\n",
    "    #calculate sgrt of product between cov\n",
    "    covmean = sqrtm(sigma1.dot(sigma2))\n",
    "    #check and correct imaginary numbers from sqrt\n",
    "    if iscomplexobj(covmean):\n",
    "        covmean = covmean.real\n",
    "    #calculate score\n",
    "    fid = ssdiff + trace(sigma1 + sigma2 - 2.0 * covmean)\n",
    "    return fid"
   ]
  },
  {
   "cell_type": "markdown",
   "id": "cd9bae89-16a0-4c6e-8151-bbd70c6849ce",
   "metadata": {},
   "source": [
    "### 其他客观评测指标:Precision与Recall"
   ]
  },
  {
   "cell_type": "markdown",
   "id": "d02ee552-5958-4f0f-9d86-15b60971437d",
   "metadata": {},
   "source": [
    "![](./img/P66_6.png)"
   ]
  },
  {
   "cell_type": "markdown",
   "id": "db1981a6-d7b9-41da-8705-908b0b760b25",
   "metadata": {},
   "source": [
    "# Part2 论文摘要与基础模型改进讲解"
   ]
  },
  {
   "cell_type": "markdown",
   "id": "ff0de96e-1a1e-46fa-8b79-b3ce958d2e35",
   "metadata": {},
   "source": [
    "![](./img/P66_7.png)"
   ]
  },
  {
   "cell_type": "markdown",
   "id": "cfe43e25-56a2-4764-bf57-850bf866dd8d",
   "metadata": {},
   "source": [
    "![](./img/P66_8.png)"
   ]
  },
  {
   "cell_type": "markdown",
   "id": "aeff95cf-c28a-420d-bab4-47ed9400cfa8",
   "metadata": {},
   "source": [
    "![](./img/P66_9.png)"
   ]
  },
  {
   "cell_type": "markdown",
   "id": "918847b9-14cb-4f16-98c2-4083463c9a54",
   "metadata": {},
   "source": [
    "![](./img/P66_9.png)"
   ]
  },
  {
   "cell_type": "markdown",
   "id": "34d5b8ea-23a3-4ca5-8051-18b625093f7b",
   "metadata": {},
   "source": [
    "![](./img/P66_11.png)"
   ]
  },
  {
   "cell_type": "markdown",
   "id": "9b579a74-0f92-4300-aa2c-fbff77ada668",
   "metadata": {},
   "source": [
    "![](./img/P66_12.png)"
   ]
  },
  {
   "cell_type": "markdown",
   "id": "8013d339-f5ef-4735-aaee-32155b28a72f",
   "metadata": {},
   "source": [
    "![](./img/P66_13.png)"
   ]
  },
  {
   "cell_type": "markdown",
   "id": "543d36a5-806f-4363-b1d4-85c1fe6f0edc",
   "metadata": {},
   "source": [
    "![](./img/P66_14.png)"
   ]
  },
  {
   "cell_type": "markdown",
   "id": "ffa50a61-2bca-4455-89ab-f1677b7e45cc",
   "metadata": {},
   "source": [
    "![](./img/P66_15.png)"
   ]
  },
  {
   "cell_type": "markdown",
   "id": "e712fd8e-33aa-4161-a3a9-702a337ceaaa",
   "metadata": {},
   "source": [
    "![](./img/P66_16.png)"
   ]
  },
  {
   "cell_type": "markdown",
   "id": "a643c495-f597-42f6-a18b-2a9a9ceb62b2",
   "metadata": {},
   "source": [
    "![](./img/P66_17.png)"
   ]
  },
  {
   "cell_type": "markdown",
   "id": "5d400614-9861-4f4e-8060-1150b5b569b5",
   "metadata": {},
   "source": [
    "![](./img/P66_18.png)"
   ]
  },
  {
   "cell_type": "markdown",
   "id": "1341ea06-1e01-4b62-b8fd-728a094113fe",
   "metadata": {},
   "source": [
    "# Part 3 基于分类器的条件采样算法的原理与效果\n",
    "## 先看效果"
   ]
  },
  {
   "cell_type": "markdown",
   "id": "7d498a70-e3ec-4384-b0f5-fa91459bc71c",
   "metadata": {},
   "source": [
    "![](./img/P66_19.png)"
   ]
  },
  {
   "cell_type": "markdown",
   "id": "84a1e0be-f46f-4973-9f75-f7046e0da291",
   "metadata": {},
   "source": [
    "![](./img/P66_20.png)"
   ]
  },
  {
   "cell_type": "markdown",
   "id": "5fae0a03-7949-459a-b1ec-e7fe7dccb478",
   "metadata": {},
   "source": [
    "### 接下来，分别证明q^的加噪条件分布、联合分布和边缘分布，在不加y条件的情况下，q^与q的表现相同;并且进一步表明逆扩散条件分布也相同。"
   ]
  },
  {
   "cell_type": "markdown",
   "id": "607d4186-be81-4a7f-9405-b7ecca7d5126",
   "metadata": {},
   "source": [
    "![](./img/P66_21.png)"
   ]
  },
  {
   "cell_type": "markdown",
   "id": "20b6dcca-9d33-43b7-bd4e-583646ff8812",
   "metadata": {},
   "source": [
    "![](./img/P66_22.png)"
   ]
  },
  {
   "cell_type": "markdown",
   "id": "d62297c5-c85e-49dc-86d5-048302a37147",
   "metadata": {},
   "source": [
    "![](./img/P66_23.png)"
   ]
  },
  {
   "cell_type": "markdown",
   "id": "9dcb0b79-2f63-43e5-a817-bfc3d42a0e0d",
   "metadata": {},
   "source": [
    "### 已知了q^(y|x0)，那么q^(y|xt)又具有什么样的性质呢?同时为了推导q^(xt|xt+1,y)做铺垫"
   ]
  },
  {
   "cell_type": "markdown",
   "id": "e6eb9f66-0258-4989-acb8-96cfed774d33",
   "metadata": {},
   "source": [
    "![](./img/P66_24.png)"
   ]
  },
  {
   "cell_type": "markdown",
   "id": "62bf5b02-257e-48cb-8f33-746ec70f4712",
   "metadata": {},
   "source": [
    "### q(xt|xt+1)已经训练好了，只剩下q^(y|xt)这个分类器的训练。接下来来看，如何从q^(xt| xt+1,y)中逐步采样"
   ]
  },
  {
   "cell_type": "markdown",
   "id": "bb6390d9-e12d-414c-8647-fde90ca6494a",
   "metadata": {},
   "source": [
    "![](./img/P66_25.png)"
   ]
  },
  {
   "cell_type": "markdown",
   "id": "3bf3f4a8-b412-47fa-998e-4ff8dd3a265c",
   "metadata": {},
   "source": [
    "![](./img/P66_26.png)"
   ]
  },
  {
   "cell_type": "markdown",
   "id": "715cdb33-b59a-42d8-a0c9-23e8df2321ac",
   "metadata": {},
   "source": [
    "![](./img/P66_27.png)"
   ]
  },
  {
   "cell_type": "markdown",
   "id": "3674ba45-b55e-4501-a267-d969a9647bc9",
   "metadata": {},
   "source": [
    "![](./img/P66_28.png)"
   ]
  },
  {
   "cell_type": "markdown",
   "id": "b4560684-c2ce-4998-ad65-7d9357619f2e",
   "metadata": {},
   "source": [
    "![](./img/P66_29.png)"
   ]
  },
  {
   "cell_type": "markdown",
   "id": "b2858af6-bba5-4658-988c-1de4495c6ee3",
   "metadata": {},
   "source": [
    "![](./img/P66_30.png)"
   ]
  },
  {
   "cell_type": "markdown",
   "id": "b76387cc-6532-421a-9b9d-34a2959fe77f",
   "metadata": {},
   "source": [
    "![](./img/P66_31.png)"
   ]
  },
  {
   "cell_type": "markdown",
   "id": "02a1cb7c-4df3-4548-9a12-06596495b2b1",
   "metadata": {},
   "source": [
    "![](./img/P66_32.png)"
   ]
  },
  {
   "cell_type": "markdown",
   "id": "12acf232-e106-4b57-944c-698665dde046",
   "metadata": {},
   "source": [
    "# Part 4 Guided Diffusion核心采样部分代码讲解"
   ]
  },
  {
   "cell_type": "code",
   "execution_count": null,
   "id": "afbb0b9e-3e75-42d1-a190-d891c0ce7b5d",
   "metadata": {},
   "outputs": [],
   "source": [
    "def cond_fn(x, t, y=None):\n",
    "    assert y is not None\n",
    "    with th.enable_grad():\n",
    "        x_in = x.detach().requires_grad_(True)\n",
    "        logits = classifier(xin, t)\n",
    "        log_probs = F.log_softmax(logits, dim=-1)\n",
    "        selected = log_probs[range(len(logits)), y.view(-1)]\n",
    "        return th.autograd.grad(selected.sum(), x_in)[0] * args.classifier_scale\n",
    "    \n",
    "def model_fn(x, t, y=None):\n",
    "    assert y is not None\n",
    "    return model(x, t, y if args.class_cond else None)\n",
    "\n",
    "logger.log(\"sampling...\")\n",
    "all_images = []\n",
    "all_labels = []\n",
    "\n",
    "desp = f\"scale={args.classifier_scale}\"\n",
    "if args.use_ddim:\n",
    "    desp += f\"_ddim\"\n",
    "    \n",
    "while len(all_images) * args.batch_size < args.num_samples:\n",
    "    model_kwargs = {}\n",
    "    classes = th.randint(\n",
    "        low=0, high=NUM_CLASSES, size=(args.batch_size,), device=dist_util.dev()\n",
    "    )\n",
    "    model_kwargs[\"y\"] = classes\n",
    "    sample_fn = (\n",
    "        diffusion.p_sample_loop if not args.use_ddim else diffusion.ddim_sample_loop\n",
    "    )\n",
    "    sample = sample_fn(\n",
    "        model_fn,\n",
    "        (args.batch_size, 3, args.image_size, args.image_size),\n",
    "        clip_denoised=args.clip_denoised,\n",
    "        model_kwargs=model_kwargs,\n",
    "        cond_fn=cond_fn,\n",
    "        device=dist_util.dev(),\n",
    "    )\n",
    "    sample = ((sample + 1) * 127.5).clamp(0, 255).to(th.uint8)\n",
    "    sample = sample.permute(0, 2, 3, 1)\n",
    "    sample = sample.contiguous()"
   ]
  },
  {
   "cell_type": "code",
   "execution_count": null,
   "id": "10943e9f-ac90-4b6c-8880-dec8988b11dd",
   "metadata": {},
   "outputs": [],
   "source": [
    "def p_sample(\n",
    "    self,\n",
    "    model,\n",
    "    x,\n",
    "    t,\n",
    "    clip_denoised=True,\n",
    "    denoised_fn=None,\n",
    "    cond_fn=None,\n",
    "    model_kwargs=None,\n",
    "):\n",
    "    out = self.p_mean_variance(\n",
    "        model,\n",
    "        x,\n",
    "        t,\n",
    "        clip_denoised=clip_denoised,\n",
    "        denoised_fn=denoised_fn,\n",
    "        model_kwargs=model_kwargs,\n",
    "    )\n",
    "    noise = th.randn_like(x)\n",
    "    nonzero_mask = (\n",
    "        (t != 0).float().view(-1, *([1] * (len(x.shape)- 1)))\n",
    "    )  # no noise when t == 0\n",
    "    if cond_fn is not None:\n",
    "        out[\"mean\"] = self.condition_mean(\n",
    "            cond_fn, out, x ,t, model_kwargs=model_kwargs\n",
    "        )\n",
    "    sample = out[\"mean\"] + nonzero_mask * th.exp(0.5 * out[\"log variance\"]) * noise\n",
    "    return {\"sample\": sample, \"pred_xstart\": out[\"pred_xstart\"]}"
   ]
  },
  {
   "cell_type": "code",
   "execution_count": null,
   "id": "e859aee8-c546-4109-8907-94eed3847ef1",
   "metadata": {},
   "outputs": [],
   "source": [
    "def condition_mean(self, cond_fn, p_mean_var, x, t, model_kwargs=None):\n",
    "    gradient = cond_fn(x, self._scale_timesteps(t), **model_kwargs)\n",
    "    new mean = (\n",
    "        p_mean_var[\"mean\"].float() + p_mean_var[\"variance\"] * gradient.float()\n",
    "    )\n",
    "    return new_mean"
   ]
  }
 ],
 "metadata": {
  "kernelspec": {
   "display_name": "Python 3 (ipykernel)",
   "language": "python",
   "name": "python3"
  },
  "language_info": {
   "codemirror_mode": {
    "name": "ipython",
    "version": 3
   },
   "file_extension": ".py",
   "mimetype": "text/x-python",
   "name": "python",
   "nbconvert_exporter": "python",
   "pygments_lexer": "ipython3",
   "version": "3.7.13"
  }
 },
 "nbformat": 4,
 "nbformat_minor": 5
}
