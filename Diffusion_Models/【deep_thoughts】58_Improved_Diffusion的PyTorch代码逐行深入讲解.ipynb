{
 "cells": [
  {
   "cell_type": "markdown",
   "id": "b7bf3148-82af-4264-93bf-0b8cd0e043cb",
   "metadata": {},
   "source": [
    "# Improved_Diffusion的PyTorch代码逐行深入讲解\n",
    "\n",
    "来自b站up主deep_thoughts 合集【PyTorch源码教程与前沿人工智能算法复现讲解】\n",
    "\n",
    "P_58_Improved_Diffusion的PyTorch代码逐行深入讲解：\n",
    "\n",
    "https://www.bilibili.com/video/BV1sG411s7vV/?spm_id_from=pageDriver&vd_source=18e91d849da09d846f771c89a366ed40\n",
    "\n",
    "***论文***\n",
    "\n",
    "Denoising Diffusion Probabilistic Models：\n",
    "\n",
    "https://arxiv.org/pdf/2006.11239.pdf\n",
    "\n",
    "Autoregressive Denoising Diffusion Models for Multivariate Probabilistic Time Series Forecasting：\n",
    "\n",
    "http://proceedings.mlr.press/v139/rasul21a/rasul21a.pdf\n",
    "\n",
    "Improved Denoising Diffusion Probabilistic Models：\n",
    "\n",
    "https://arxiv.org/pdf/2102.09672.pdf\n",
    "\n",
    "***代码***\n",
    "\n",
    "improved-diffusion：\n",
    "\n",
    "https://github.com/openai/improved-diffusion"
   ]
  },
  {
   "cell_type": "markdown",
   "id": "aa150ec5-b7a9-401f-8699-019a85f2f371",
   "metadata": {},
   "source": [
    "# DDPM"
   ]
  },
  {
   "cell_type": "markdown",
   "id": "a53feea1-a386-460c-9c91-a580defb69a4",
   "metadata": {},
   "source": [
    "## diffusion\n",
    "### forward process（无参）\n",
    "* beta schedule\n",
    "* 基于x[0]和t采样出t时刻加噪后的样本x[t]\n",
    "* 基于x[0]、x[t]、t计算出后验分布并采样得到去噪后的样本x[t-1]\n",
    "* x[T]服从标准分布\n",
    "### reverse process（含参）\n",
    "* training\n",
    "  * 将x[t]和t带入NN模型，来预测出x[t-1]的分布\n",
    "    * 预测方差\n",
    "    * 预测方差线性加权的权重\n",
    "    * 固定的方差\n",
    "      * betas\n",
    "      * betas_bar\n",
    "    * 预测噪声\n",
    "    * 预测期望均值\n",
    "    * 预测x[0]\n",
    "  * MSE loss\n",
    "  * 计算预测的分布与真实的后验分布之间的KL loss\n",
    "  * 基于训练集和t的采样训练\n",
    "    * 均匀采样t\n",
    "    * 基于loss来进行重要性采样t\n",
    "* infer\n",
    "  * 自x[T]开始带入NN模型采样出x[T-1]...x[0]"
   ]
  },
  {
   "cell_type": "markdown",
   "id": "31be6e6b-abb2-42ad-a023-6582a4b4f9ac",
   "metadata": {},
   "source": [
    "## neural model\n",
    "### attention-based UNet\n",
    "* input blocks\n",
    "  * ResBlock\n",
    "    * x\n",
    "    * emb\n",
    "      * timestep\n",
    "      * condition\n",
    "  * MHSA Block\n",
    "  * Downsample Block\n",
    "* mid blocks\n",
    "  * ResBlock\n",
    "  * MHSA Block\n",
    "  * ResBlock\n",
    "* output blocks\n",
    "  * ResBlock（与input blocks对应层的输出进行拼接作为输入）\n",
    "  * MHSA block\n",
    "  * Upsample Block\n",
    "* output layer"
   ]
  },
  {
   "cell_type": "markdown",
   "id": "bfa78580-fd2c-418d-93e2-7468bcbb5499",
   "metadata": {},
   "source": [
    "# IDDPM 代码解读\n",
    "https://github.com/openai/improved-diffusion"
   ]
  },
  {
   "cell_type": "markdown",
   "id": "0cf969c2-c7e1-4424-a891-9b0138894ee2",
   "metadata": {},
   "source": [
    "## 命令行巧妙传参及DataLoader"
   ]
  },
  {
   "cell_type": "markdown",
   "id": "c36bd315-4037-4102-a715-528863b2d692",
   "metadata": {},
   "source": [
    "def create_argparser()\n",
    "\n",
    "    \"\"\" 从字典中自动生成命令行传参的argument parser\"\"\"\n",
    "\n",
    "    defaults = dict()  # 将参数定义为字典\n",
    "\n",
    "    add_dict_to_argparser  # 函数巧妙传参"
   ]
  },
  {
   "cell_type": "markdown",
   "id": "68ba732b-7ce5-40fb-94d9-c6f31e835eb7",
   "metadata": {},
   "source": [
    "def create_named_schedule_sampler()\n",
    "\n",
    "    \"\"\" 平均采样 或 基于二阶动量平滑loss采样 \"\"\"\n",
    "    \n",
    "data = load_data()  # 加载数据"
   ]
  },
  {
   "cell_type": "markdown",
   "id": "028d352e-5872-4973-88ac-7b15794c9cd9",
   "metadata": {},
   "source": [
    "## Noise Scheduling"
   ]
  },
  {
   "cell_type": "markdown",
   "id": "1a1aed53-3e7f-4b0b-9155-bbfa2b3e6c81",
   "metadata": {},
   "source": [
    "def create_model_and_diffusion()  # 定义模型和扩散过程\n",
    "\n",
    "def create_gaussian_diffusion()  # 生成一个扩散过程的框架\n",
    "\n",
    "def get_named_beta_schedule()  # 定义线性加噪方案 和 余弦加噪方案\n",
    "\n",
    "def betas_for_alpha_bar()  # 根据 alpha 计算 beta"
   ]
  },
  {
   "cell_type": "markdown",
   "id": "8964cbda-df85-4469-9e0e-c406c511d0ab",
   "metadata": {},
   "source": [
    "## Gussian Diffusion前向计算"
   ]
  },
  {
   "cell_type": "markdown",
   "id": "f1dbf38f-45d0-46a4-9500-5b8b1f0659b1",
   "metadata": {},
   "source": [
    "class SpacedDiffusion(GaussianDiffusion)  # 在基础 diffusion过程 上进行优化\n",
    "\n",
    "class GaussionDiffusion  # 最原始的 diffusion 框架代码"
   ]
  },
  {
   "cell_type": "markdown",
   "id": "b1664984-24f4-43d8-b956-3c15d42ef60d",
   "metadata": {},
   "source": [
    "## q分布均值方差及其采样函数"
   ]
  },
  {
   "cell_type": "markdown",
   "id": "9b5e9b0c-8a76-475e-84e6-23f2b15dd6e4",
   "metadata": {},
   "source": [
    "def q_mean_variance()  # 基于 x0 和 t 算 x[t] 分布的均值和方差\n",
    "\n",
    "def q_sample()  # 计算 q 即 x[t] 的采样值 / 重参数采样\n",
    "\n",
    "def q_posterior_mean_variance  # 后验分布的均值和方差"
   ]
  },
  {
   "cell_type": "markdown",
   "id": "1482309d-c5f0-4a33-951d-f9463e8dea92",
   "metadata": {},
   "source": [
    "## p分布均值方差及其推理迭代采样"
   ]
  },
  {
   "cell_type": "markdown",
   "id": "931a5868-ac54-4980-b119-79f7e16a68ec",
   "metadata": {},
   "source": [
    "def p_mean_variance() # 得到逆扩散过程的均值和方差\n",
    "\n",
    "def _predict_xstart_from_eps() # 根据 x[t] t eps 预测 x0\n",
    "\n",
    "def _predict_xstart_from_xprev() # 根据 x[t-1] 预测 x0\n",
    "\n",
    "def _predict_eps_from_xstart() # 根据 x0 预测 eps\n",
    "\n",
    "def p_sample() # 基于 x[t] 采样出 x[t-1]"
   ]
  },
  {
   "cell_type": "markdown",
   "id": "8fef3bcf-6872-4d97-8e8d-a396bcb04cd7",
   "metadata": {},
   "source": [
    "## KL散度计算以及MSE loss"
   ]
  },
  {
   "cell_type": "markdown",
   "id": "8acab7e6-08c6-43a5-afc7-8c07f49349d5",
   "metadata": {},
   "source": [
    "def _vb_terms_bpd()  # vb 变分下界 bpd (bit per dim)每个维度的比特数 \n",
    "    \n",
    "    # 真实的x[0] x[t] 和 t 去计算出 x[t-1] 的均值和方差\n",
    "    \n",
    "    # x[t] t 和预测的 x[0] 去计算出 x[t-1] 的均值和方差\n",
    "    \n",
    "    # p_theta 与 q 分布之间的 KL散度 对应着L[t-1]损失函数\n",
    "    \n",
    "    discretized_gaussian_log_likelihood  # 计算离散数似然 对应着 L[0] 损失函数\n",
    "    \n",
    "    # t=0时刻，用离散的高斯分布去计算似然\n",
    "    \n",
    "    # t>0时刻，直接用KL散度\n",
    "    \n",
    "def training_losses()  # 三种方案：只学习vb loss；只学习MSE loss；同时学习MSE和vb loss"
   ]
  },
  {
   "cell_type": "markdown",
   "id": "0b54aae5-d80c-4bd8-9d6f-263e29eb419d",
   "metadata": {},
   "source": [
    "## Attention-based U-Net 代码"
   ]
  },
  {
   "cell_type": "markdown",
   "id": "50072a3c-bf3f-4e70-b65d-058894ca90d4",
   "metadata": {},
   "source": [
    "nn.py"
   ]
  },
  {
   "cell_type": "markdown",
   "id": "f90cd92a-cb9f-4aa5-a416-939ac08b4c75",
   "metadata": {},
   "source": [
    "## 训练模型"
   ]
  },
  {
   "cell_type": "code",
   "execution_count": null,
   "id": "8c6d65ce-8e65-4b76-9c4a-8ed0143757fe",
   "metadata": {},
   "outputs": [],
   "source": [
    "MODEL_FLAGS=\"--image_size 64 --num_channels 128 --num_res_blocks 3 --class_cond True\"\n",
    "DIFFUSION_FLAGS=\"--diffusion_steps 4000 --learn_sigma True --noise_schedule cosine --use_kl True\"\n",
    "TRAIN_FLAGS=\"--lr 1e-4 --batch_size 24\"\n",
    "\n",
    "python scripts/image_train.py --data_dir datasets/cifar_train $MODEL_FLAGS $DIFFUSION_FLAGS $TRAIN_FLAGS"
   ]
  }
 ],
 "metadata": {
  "kernelspec": {
   "display_name": "Python 3 (ipykernel)",
   "language": "python",
   "name": "python3"
  },
  "language_info": {
   "codemirror_mode": {
    "name": "ipython",
    "version": 3
   },
   "file_extension": ".py",
   "mimetype": "text/x-python",
   "name": "python",
   "nbconvert_exporter": "python",
   "pygments_lexer": "ipython3",
   "version": "3.7.13"
  }
 },
 "nbformat": 4,
 "nbformat_minor": 5
}
