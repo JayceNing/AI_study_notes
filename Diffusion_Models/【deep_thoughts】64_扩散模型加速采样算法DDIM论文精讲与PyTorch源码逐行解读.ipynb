{
 "cells": [
  {
   "cell_type": "markdown",
   "id": "6dd0e5eb-20a6-46d9-a2e9-ea2835fc1130",
   "metadata": {},
   "source": [
    "# 扩散模型加速采样算法《Denoising Diffusion lmplicit Models》论文原理与PyTorch源码解读"
   ]
  },
  {
   "cell_type": "markdown",
   "id": "644c1d47-8a21-4a84-972c-820d3c3b07d2",
   "metadata": {},
   "source": [
    "来自b站up主deep_thoughts 合集【PyTorch源码教程与前沿人工智能算法复现讲解】\n",
    "\n",
    "P_64_扩散模型加速采样算法DDIM论文精讲与PyTorch源码逐行解读：\n",
    "\n",
    "https://www.bilibili.com/video/BV1JY4y1N7dn/?spm_id_from=333.788&vd_source=18e91d849da09d846f771c89a366ed40"
   ]
  },
  {
   "cell_type": "markdown",
   "id": "fb3a686b-f6a7-493c-99c6-45334b145280",
   "metadata": {},
   "source": [
    "## 本期直播主要内容\n",
    "* 指出DDPM中的$L_{simple}$与扩散过程的联合分布具体形式无直接关系，因此训练$L_{simple}$其实就相当于训练了一些列潜在的扩散模型\n",
    "* 构造了一种更具一般性的非马尔科夫的扩散过程，并让其满足边缘分布不变以重复利用训练好的DDPM模型。\n",
    "* 构造了更具一般的采样算法，涵盖DDPM和DDIM\n",
    "* 指出可以用respacing来减少采样步骤，并发现DDIM可以以5倍少的步骤来获得跟DDPM一样的采样质量\n",
    "* 对improved diffusion中的respacing和ddim_sample等函数源码进行补充讲解"
   ]
  },
  {
   "cell_type": "markdown",
   "id": "5f9773d4-1bb8-4379-85f9-304a8925fd21",
   "metadata": {},
   "source": [
    "## notebook目录"
   ]
  },
  {
   "cell_type": "markdown",
   "id": "90653a80-f1f8-4aec-9ace-0e836bc9e703",
   "metadata": {},
   "source": [
    "* 1 摘要与引文\n",
    "* 2 DDPM原理回顾\n",
    "* 3 DDPM的损失函数特点\n",
    "* 4 设计非马尔可夫链的前向扩散过程\n",
    "* 5 对比非马尔科夫扩散后验分布与DDPM马尔科夫扩散的后验分布\n",
    "* 6 非马尔科夫扩散逆过程的采样\n",
    "* 7 一种特殊的采样--DDIM(含蓄的概率扩散模型)\n",
    "* 8 $L_{simple}$的特殊性质带来一种加速采样的技巧--respacing\n",
    "* 9 对比论文中DDIM和DDPM的respacing加速采样效果·\n",
    "* 10 DDPM loss函数、DDIM sample函数以及加速采样的respacing函数的PyTorch源码(回顾)讲解"
   ]
  },
  {
   "cell_type": "markdown",
   "id": "d3b73cc8-1ddc-41eb-8ac1-edd190629a2d",
   "metadata": {},
   "source": [
    "## 本期直播参考文献和参考视频\n",
    "DDPM论文、DDIM论文以及54、58、62、63期视频教程。"
   ]
  },
  {
   "cell_type": "markdown",
   "id": "998ccb9a-985b-459c-b3f0-1adb2c237500",
   "metadata": {},
   "source": [
    "# 1. 摘要与引文"
   ]
  },
  {
   "cell_type": "markdown",
   "id": "ea24bc83-e709-4775-8bd5-60a7c0aadfc7",
   "metadata": {},
   "source": [
    "![](./img/P64_1.png)"
   ]
  },
  {
   "cell_type": "markdown",
   "id": "7f1f2421-a2e1-4d4c-bb96-7fef266fccb6",
   "metadata": {},
   "source": [
    "![](./img/P64_2.png)"
   ]
  },
  {
   "cell_type": "markdown",
   "id": "592a0739-253d-42eb-b04f-2d0ff3755429",
   "metadata": {},
   "source": [
    "![](./img/P64_3.png)"
   ]
  },
  {
   "cell_type": "markdown",
   "id": "e2d6eca4-9f94-47a0-a7d7-e75670a47df2",
   "metadata": {},
   "source": [
    "# 2. DDPM原理回顾"
   ]
  },
  {
   "cell_type": "markdown",
   "id": "983dbd6e-a7be-43b6-bc7b-b5079f7f7f6c",
   "metadata": {},
   "source": [
    "![](./img/P64_4.png)"
   ]
  },
  {
   "cell_type": "markdown",
   "id": "7c9cad58-fe24-4c17-bbfc-2e1a6e896321",
   "metadata": {},
   "source": [
    "![](./img/P64_5.png)"
   ]
  },
  {
   "cell_type": "code",
   "execution_count": null,
   "id": "04f9e93d-7c80-48a7-beec-bb5876d51a38",
   "metadata": {},
   "outputs": [],
   "source": []
  }
 ],
 "metadata": {
  "kernelspec": {
   "display_name": "Python 3 (ipykernel)",
   "language": "python",
   "name": "python3"
  },
  "language_info": {
   "codemirror_mode": {
    "name": "ipython",
    "version": 3
   },
   "file_extension": ".py",
   "mimetype": "text/x-python",
   "name": "python",
   "nbconvert_exporter": "python",
   "pygments_lexer": "ipython3",
   "version": "3.7.13"
  }
 },
 "nbformat": 4,
 "nbformat_minor": 5
}
