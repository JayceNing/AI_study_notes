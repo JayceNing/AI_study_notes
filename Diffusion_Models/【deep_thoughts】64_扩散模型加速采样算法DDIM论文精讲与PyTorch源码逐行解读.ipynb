{
 "cells": [
  {
   "cell_type": "markdown",
   "id": "6dd0e5eb-20a6-46d9-a2e9-ea2835fc1130",
   "metadata": {},
   "source": [
    "# 扩散模型加速采样算法《Denoising Diffusion lmplicit Models》论文原理与PyTorch源码解读"
   ]
  },
  {
   "cell_type": "markdown",
   "id": "644c1d47-8a21-4a84-972c-820d3c3b07d2",
   "metadata": {},
   "source": [
    "来自b站up主deep_thoughts 合集【PyTorch源码教程与前沿人工智能算法复现讲解】\n",
    "\n",
    "P_64_扩散模型加速采样算法DDIM论文精讲与PyTorch源码逐行解读：\n",
    "\n",
    "https://www.bilibili.com/video/BV1JY4y1N7dn/?spm_id_from=333.788&vd_source=18e91d849da09d846f771c89a366ed40"
   ]
  },
  {
   "cell_type": "markdown",
   "id": "fb3a686b-f6a7-493c-99c6-45334b145280",
   "metadata": {},
   "source": [
    "## 本期直播主要内容\n",
    "* 指出DDPM中的$L_{simple}$与扩散过程的联合分布具体形式无直接关系，因此训练$L_{simple}$其实就相当于训练了一些列潜在的扩散模型\n",
    "* 构造了一种更具一般性的非马尔科夫的扩散过程，并让其满足边缘分布不变以重复利用训练好的DDPM模型。\n",
    "* 构造了更具一般的采样算法，涵盖DDPM和DDIM\n",
    "* 指出可以用respacing来减少采样步骤，并发现DDIM可以以5倍少的步骤来获得跟DDPM一样的采样质量\n",
    "* 对improved diffusion中的respacing和ddim_sample等函数源码进行补充讲解"
   ]
  },
  {
   "cell_type": "markdown",
   "id": "5f9773d4-1bb8-4379-85f9-304a8925fd21",
   "metadata": {},
   "source": [
    "## notebook目录"
   ]
  },
  {
   "cell_type": "markdown",
   "id": "90653a80-f1f8-4aec-9ace-0e836bc9e703",
   "metadata": {},
   "source": [
    "* 1 摘要与引文\n",
    "* 2 DDPM原理回顾\n",
    "* 3 DDPM的损失函数特点\n",
    "* 4 设计非马尔可夫链的前向扩散过程\n",
    "* 5 对比非马尔科夫扩散后验分布与DDPM马尔科夫扩散的后验分布\n",
    "* 6 非马尔科夫扩散逆过程的采样\n",
    "* 7 一种特殊的采样--DDIM(含蓄的概率扩散模型)\n",
    "* 8 $L_{simple}$的特殊性质带来一种加速采样的技巧--respacing\n",
    "* 9 对比论文中DDIM和DDPM的respacing加速采样效果·\n",
    "* 10 DDPM loss函数、DDIM sample函数以及加速采样的respacing函数的PyTorch源码(回顾)讲解"
   ]
  },
  {
   "cell_type": "markdown",
   "id": "d3b73cc8-1ddc-41eb-8ac1-edd190629a2d",
   "metadata": {},
   "source": [
    "## 本期直播参考文献和参考视频\n",
    "DDPM论文、DDIM论文以及54、58、62、63期视频教程。"
   ]
  },
  {
   "cell_type": "markdown",
   "id": "998ccb9a-985b-459c-b3f0-1adb2c237500",
   "metadata": {},
   "source": [
    "# 1. 摘要与引文"
   ]
  },
  {
   "cell_type": "markdown",
   "id": "ea24bc83-e709-4775-8bd5-60a7c0aadfc7",
   "metadata": {},
   "source": [
    "![](./img/P64_1.png)"
   ]
  },
  {
   "cell_type": "markdown",
   "id": "7f1f2421-a2e1-4d4c-bb96-7fef266fccb6",
   "metadata": {},
   "source": [
    "![](./img/P64_2.png)"
   ]
  },
  {
   "cell_type": "markdown",
   "id": "592a0739-253d-42eb-b04f-2d0ff3755429",
   "metadata": {},
   "source": [
    "![](./img/P64_3.png)"
   ]
  },
  {
   "cell_type": "markdown",
   "id": "e2d6eca4-9f94-47a0-a7d7-e75670a47df2",
   "metadata": {},
   "source": [
    "# 2. DDPM原理回顾"
   ]
  },
  {
   "cell_type": "markdown",
   "id": "983dbd6e-a7be-43b6-bc7b-b5079f7f7f6c",
   "metadata": {},
   "source": [
    "![](./img/P64_4.png)"
   ]
  },
  {
   "cell_type": "markdown",
   "id": "7c9cad58-fe24-4c17-bbfc-2e1a6e896321",
   "metadata": {},
   "source": [
    "![](./img/P64_5.png)"
   ]
  },
  {
   "cell_type": "markdown",
   "id": "c2f824f2-bd79-4bc4-9fe8-5175c7689514",
   "metadata": {},
   "source": [
    "# 3. DDPM的损失函数特点"
   ]
  },
  {
   "cell_type": "markdown",
   "id": "02dc0d84-6a7e-45bc-a339-f49cd6527333",
   "metadata": {},
   "source": [
    "## DDPM的损失函数$L_{simple}$只依赖于边缘分布，而不直接依赖于联合分布"
   ]
  },
  {
   "cell_type": "markdown",
   "id": "2334717e-28d0-4eea-af1b-e958b152c120",
   "metadata": {},
   "source": [
    "![](./img/P64_6.png)"
   ]
  },
  {
   "cell_type": "markdown",
   "id": "7ab9df62-9fde-4609-97b4-e7c52354f958",
   "metadata": {},
   "source": [
    "在推导出$L_{simple}$(或$L_\\gamma$)过程中，我们没有用到$q(x_{1:T}|x_0)$的具体形式，只是基于贝叶斯公式和$q(x_t,|x_{t-1},x_0)$、$q(x_t|x_0)$表达式。\n",
    "\n",
    "在训练DDPM所用到的$L_{simple}$ loss中，我们甚至都没有采用跟$q(x_t,|x_{t-1},x_0)$相关的系数，而是直接选择将预测噪音的权重设置为1。由于噪音项是来自$q(x_t|x_0)$的采样，因此，DDPM的目标函数其实只由$q(x_t|x_0)$表达式决定。这其实也证实了$L_{simple}$与score-matching之间的联系。\n",
    "\n",
    "换句话说，只要$q(x_t|x_0)$已知并且是高斯分布的形式，那么我们就可以用DDPM的预测噪音的目标函数$L_{simple}$ 来训练模型。\n",
    "\n",
    "于是，槽点来了!!!在DDPM中，基于马尔科夫性质我们认为$q(x_t,|x_{t-1},x_0)=q(x_t|x_{t-1})$，那么如果是服从非马尔科夫性质呢?$q(x_t,|x_{t-1},x_0)$是不是具有更一般的形式?以及，只要我们保证$q(x_t|x_0)$的形式不变，那么我们可以直接复用训好的DDPM,只不过使用新的概率分布来进行逆过程的采样。\n",
    "\n",
    "接下来作者给出了一种非马尔科夫性质的前向扩散讨程的公式以及后验概率分布的表达式。而该后验概率分布恰好满足DDPM中的边缘分布$q(x_t|x_0)$。"
   ]
  },
  {
   "cell_type": "markdown",
   "id": "3f3a0a0b-8eff-4c6b-9e1c-faf6cfe8240c",
   "metadata": {},
   "source": [
    "# 4. 设计非马尔可夫链的前向扩散过程"
   ]
  },
  {
   "cell_type": "markdown",
   "id": "c7c8e6b6-b3fd-4071-9fb2-16828e9edafd",
   "metadata": {},
   "source": [
    "![](./img/P64_7.png)"
   ]
  },
  {
   "cell_type": "markdown",
   "id": "fede8259-ce1b-4e33-b649-6d8bcb1aba68",
   "metadata": {},
   "source": [
    "## 接下来证明$q_{\\sigma}(x_t|x_0)$"
   ]
  },
  {
   "cell_type": "markdown",
   "id": "9283ef7e-9d88-4306-88b6-65ff0e692580",
   "metadata": {},
   "source": [
    "## 首先，回顾一下边缘高斯分布与条件高斯分布之间的推理关系"
   ]
  },
  {
   "cell_type": "markdown",
   "id": "00e4cd10-9d0a-4710-bf86-9505fb45aa79",
   "metadata": {},
   "source": [
    "![](./img/P64_8.png)"
   ]
  },
  {
   "cell_type": "markdown",
   "id": "5c5b033c-ce5e-4b66-98e5-2956161fd770",
   "metadata": {},
   "source": [
    "## 其次，回顾一下高中阶段学过的数学归纳法证明"
   ]
  },
  {
   "cell_type": "markdown",
   "id": "353f9f81-53eb-4743-8bbe-199e7b542295",
   "metadata": {},
   "source": [
    "![](./img/P64_9.png)"
   ]
  },
  {
   "cell_type": "markdown",
   "id": "fa15e90d-c4cf-484b-a5a4-6f5c068856e7",
   "metadata": {},
   "source": [
    "![](./img/P64_10.png)"
   ]
  },
  {
   "cell_type": "markdown",
   "id": "35fc5220-8225-43a8-a66a-a335ac667c09",
   "metadata": {},
   "source": [
    "## 最后，基于条件概率公式+高斯分布的性质+数学归纳法来证明$q_{\\sigma}(x_t|x_0)$"
   ]
  },
  {
   "cell_type": "markdown",
   "id": "f31aa8c0-da67-4ade-8652-08a8e8db2f2d",
   "metadata": {},
   "source": [
    "![](./img/P64_11.png)"
   ]
  },
  {
   "cell_type": "markdown",
   "id": "87b10c02-ff2e-4da3-9b6d-2f63e30eff46",
   "metadata": {},
   "source": [
    "![](./img/P64_12.png)"
   ]
  },
  {
   "cell_type": "markdown",
   "id": "89479e40-0473-4472-a4bd-ffa5dd31399b",
   "metadata": {},
   "source": [
    "## 到此，我们已经证明了给定下式的情况下，边缘分布"
   ]
  },
  {
   "cell_type": "markdown",
   "id": "470ed228-9084-458f-8729-6e7c4168caa0",
   "metadata": {},
   "source": [
    "# 5. 对比非马尔科夫扩散后验分布与DDPM马尔科夫扩散的后验分布"
   ]
  },
  {
   "cell_type": "markdown",
   "id": "a094ca5c-a598-465b-aa88-4cda05f36484",
   "metadata": {},
   "source": [
    "## DDPM马尔科夫扩散的后验分布如下"
   ]
  },
  {
   "cell_type": "markdown",
   "id": "39b7b774-3b02-4808-8387-87ea0b722c4a",
   "metadata": {},
   "source": [
    "![](./img/P64_13.png)"
   ]
  },
  {
   "cell_type": "markdown",
   "id": "bb679933-0dee-42b7-82b3-7f9f9046bda6",
   "metadata": {},
   "source": [
    "# 6. 非马尔可夫扩散逆过程的采样"
   ]
  },
  {
   "cell_type": "markdown",
   "id": "49717d9f-361e-447b-92a2-8fa9dd512203",
   "metadata": {},
   "source": [
    "![](./img/P64_14.png)"
   ]
  },
  {
   "cell_type": "markdown",
   "id": "a02e5a09-af7e-496b-a0c5-26d3e5a618fa",
   "metadata": {},
   "source": [
    "## 下面证明$J_{\\sigma}=L_{\\gamma}+C$"
   ]
  },
  {
   "cell_type": "markdown",
   "id": "e8244fc9-13f9-42a1-bf08-7b101f1788ed",
   "metadata": {},
   "source": [
    "![](./img/P64_15.png)"
   ]
  },
  {
   "cell_type": "markdown",
   "id": "bf8e9f72-f3d5-4ed2-8b87-7bc871efb706",
   "metadata": {},
   "source": [
    "## 优化$L_1$同样也是在优化$J_{sigma}$"
   ]
  },
  {
   "cell_type": "markdown",
   "id": "93bb8e94-5ac2-4cd2-9ea3-44768c20ab0c",
   "metadata": {},
   "source": [
    "# 7.一种特殊的采样--DDIM(含蓄的概率扩散模型)"
   ]
  },
  {
   "cell_type": "markdown",
   "id": "a865b620-c648-4892-8c58-9af52f277352",
   "metadata": {},
   "source": [
    "![](./img/P64_16.png)"
   ]
  },
  {
   "cell_type": "markdown",
   "id": "c07ffde8-9036-4c42-84d0-4eeb6e4a0101",
   "metadata": {
    "tags": []
   },
   "source": [
    "# 8. $L_1的特殊性质带来一种加速采样技巧--respacing$"
   ]
  },
  {
   "cell_type": "markdown",
   "id": "2e128744-1046-4dce-85c6-e19be2aa484f",
   "metadata": {},
   "source": [
    "![](./img/P64_17.png)"
   ]
  },
  {
   "cell_type": "markdown",
   "id": "e80fc680-2ef3-4136-9a89-fbd7b3268e8c",
   "metadata": {},
   "source": [
    "# 9. 对比DDIM和DDPM的respacing加速采样效果"
   ]
  },
  {
   "cell_type": "markdown",
   "id": "af3a049d-ae9e-4e7f-9ada-727a67fa98fe",
   "metadata": {},
   "source": [
    "![](./img/P64_18.png)"
   ]
  },
  {
   "cell_type": "markdown",
   "id": "3ccdb655-069f-496e-b5c2-ce8901776ddc",
   "metadata": {},
   "source": [
    "![](./img/P64_19.png)"
   ]
  },
  {
   "cell_type": "markdown",
   "id": "a16c6156-5801-4bc5-a0e4-e9f357661f25",
   "metadata": {},
   "source": [
    "# 10 DDPM Ioss函数、DDIM sample函数以及respacing函数的PyTorch源码\n",
    "## 主要围绕OpenAl的improved diffusion项目源码讲解"
   ]
  },
  {
   "cell_type": "markdown",
   "id": "8b40713b-5613-402b-bd79-5e6226026b16",
   "metadata": {},
   "source": [
    "代码仓库：https://github.com/openai/improved-diffusion\n",
    "\n",
    "代码讲解见视频"
   ]
  },
  {
   "cell_type": "code",
   "execution_count": null,
   "id": "647ddd7d-1220-4b3c-b02e-e746e4411559",
   "metadata": {},
   "outputs": [],
   "source": []
  }
 ],
 "metadata": {
  "kernelspec": {
   "display_name": "Python 3 (ipykernel)",
   "language": "python",
   "name": "python3"
  },
  "language_info": {
   "codemirror_mode": {
    "name": "ipython",
    "version": 3
   },
   "file_extension": ".py",
   "mimetype": "text/x-python",
   "name": "python",
   "nbconvert_exporter": "python",
   "pygments_lexer": "ipython3",
   "version": "3.7.13"
  }
 },
 "nbformat": 4,
 "nbformat_minor": 5
}
